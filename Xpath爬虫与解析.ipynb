{
 "cells": [
  {
   "cell_type": "markdown",
   "metadata": {},
   "source": [
    "# 爬取代理池网页（xpath解析），并写入本地文件"
   ]
  },
  {
   "cell_type": "code",
   "execution_count": 7,
   "metadata": {},
   "outputs": [],
   "source": [
    "import requests \n",
    "from lxml import etree \n",
    "for n in range(0,2):\n",
    "    m = str(n)\n",
    "    url='https://www.kuaidaili.com/free/'+m\n",
    "    headers={\n",
    "    'user-agent':'Mozilla/5.0 (Windows NT 10.0; Win64; x64) AppleWebKit/537.36 (KHTML, like Gecko) Chrome/100.0.4896.127 Safari/537.36'\n",
    "}\n",
    "    res=requests.get(url=url,headers=headers)\n",
    "    code=res.status_code \n",
    "    if code ==200:\n",
    "        response=res.content.decode('utf-8')\n",
    "        res_xml=etree.HTML(response)\n",
    "        ips = res_xml.xpath('//table[@class=\"table table-bordered table-striped\"]//tr//td[1]/text()')\n",
    "        ports = res_xml.xpath('//table[@class=\"table table-bordered table-striped\"]//tr//td[2]/text()')\n",
    "        data=list(*zip(ips,ports))\n",
    "        with open('代理池.xlsx',\"w\") as f:\n",
    "            pool=str(data )\n",
    "            f.write(pool)"
   ]
  },
  {
   "cell_type": "markdown",
   "metadata": {},
   "source": [
    "# IP测试"
   ]
  },
  {
   "cell_type": "code",
   "execution_count": 20,
   "metadata": {},
   "outputs": [],
   "source": [
    "url='https://www.kuaidaili.com/free/'\n",
    "headers={\n",
    "    'user-agent':'Mozilla/5.0 (Windows NT 10.0; Win64; x64) AppleWebKit/537.36 (KHTML, like Gecko) Chrome/100.0.4896.127 Safari/537.36'\n",
    "}\n",
    "proxies={'http':'119.180.171.194:8060','http':'27.42.168.46:55481'}\n",
    "try:\n",
    "    res=requests.get(url=url,headers=headers,proxies=proxies,timeout=5)\n",
    "    if code ==200:\n",
    "        data =res.json()\n",
    "        print(data[\"origin\"].split (',')[0])\n",
    "except:\n",
    "    print('请求失败')\n",
    "    "
   ]
  },
  {
   "cell_type": "code",
   "execution_count": null,
   "metadata": {},
   "outputs": [],
   "source": [
    "#进行数据爬取\n",
    "def getpages（kw,num）:\n",
    "    pass \n",
    "\n",
    "#下载图片到本地\n",
    "def downloadimg（datalist,dir）:\n",
    "    pass \n",
    "#制定关键词\n",
    "keyword =input ('输入图片关键词')\n",
    "\n",
    "#调用函数，指定爬取关键词和所需爬取页面\n",
    "datalist=getpages(keword ,2)\n",
    "\n",
    "#调用函数，保存数据并指定保存路径\n",
    "downloadimg(datalist,'./baidu')\n",
    "\n",
    "\n"
   ]
  },
  {
   "cell_type": "code",
   "execution_count": 102,
   "metadata": {},
   "outputs": [
    {
     "name": "stdout",
     "output_type": "stream",
     "text": [
      "https://image.baidu.com/search/index?tn=baiduimage&ipn=r&ct=201326592&cl=2&lm=-1&st=-1&fm=index&fr=&hs=0&xthttps=111110&sf=1&fmq=&pv=&ic=0&nc=1&z=&se=1&showtab=0&fb=0&width=&height=&face=0&istype=2&ie=utf-8&word=%E7%BE%8E%E5%A5%B3&oq=%E7%BE%8E%E5%A5%B3&rsp=-1\n"
     ]
    },
    {
     "ename": "NameError",
     "evalue": "name 'xpath' is not defined",
     "output_type": "error",
     "traceback": [
      "\u001b[1;31m---------------------------------------------------------------------------\u001b[0m",
      "\u001b[1;31mNameError\u001b[0m                                 Traceback (most recent call last)",
      "\u001b[1;32m<ipython-input-102-88b9ff528dcc>\u001b[0m in \u001b[0;36m<module>\u001b[1;34m\u001b[0m\n\u001b[0;32m      7\u001b[0m \u001b[1;31m#网页按F12，在console 中输入“document.charset”查看页面编码\u001b[0m\u001b[1;33m\u001b[0m\u001b[1;33m\u001b[0m\u001b[1;33m\u001b[0m\u001b[0m\n\u001b[0;32m      8\u001b[0m     \u001b[0mre\u001b[0m\u001b[1;33m=\u001b[0m\u001b[0mres\u001b[0m\u001b[1;33m.\u001b[0m\u001b[0mcontent\u001b[0m\u001b[1;33m.\u001b[0m\u001b[0mdecode\u001b[0m\u001b[1;33m(\u001b[0m\u001b[1;34m'UTF-8'\u001b[0m\u001b[1;33m)\u001b[0m\u001b[1;33m\u001b[0m\u001b[1;33m\u001b[0m\u001b[0m\n\u001b[1;32m----> 9\u001b[1;33m     \u001b[0mps_xml\u001b[0m\u001b[1;33m=\u001b[0m\u001b[0mxpath\u001b[0m\u001b[1;33m.\u001b[0m\u001b[0mparse\u001b[0m\u001b[1;33m(\u001b[0m\u001b[0mre\u001b[0m\u001b[1;33m)\u001b[0m\u001b[1;33m\u001b[0m\u001b[1;33m\u001b[0m\u001b[0m\n\u001b[0m\u001b[0;32m     10\u001b[0m     \u001b[0mprint\u001b[0m\u001b[1;33m(\u001b[0m\u001b[0mres_xml\u001b[0m\u001b[1;33m)\u001b[0m\u001b[1;33m\u001b[0m\u001b[1;33m\u001b[0m\u001b[0m\n\u001b[0;32m     11\u001b[0m \u001b[1;33m\u001b[0m\u001b[0m\n",
      "\u001b[1;31mNameError\u001b[0m: name 'xpath' is not defined"
     ]
    }
   ],
   "source": [
    "urls='https://image.baidu.com/search/index?tn=baiduimage&ipn=r&ct=201326592&cl=2&lm=-1&st=-1&fm=index&fr=&hs=0&xthttps=111110&sf=1&fmq=&pv=&ic=0&nc=1&z=&se=1&showtab=0&fb=0&width=&height=&face=0&istype=2&ie=utf-8&word=%E7%BE%8E%E5%A5%B3&oq=%E7%BE%8E%E5%A5%B3&rsp=-1'\n",
    "headers={'user-agent':'Mozilla/5.0 (Windows NT 10.0; Win64; x64) AppleWebKit/537.36 (KHTML, like Gecko) Chrome/100.0.4896.127 Safari/537.36 Edg/100.0.1185.50'}\n",
    "print(urls)\n",
    "res=requests.get(url=urls,headers=headers)\n",
    "code=res.status_code \n",
    "if code ==200:\n",
    "#网页按F12，在console 中输入“document.charset”查看页面编码\n",
    "    re=res.content.decode('UTF-8')\n",
    "    ps_xml=xpath.parse(re)\n",
    "    print(res_xml)\n",
    " "
   ]
  },
  {
   "cell_type": "code",
   "execution_count": 101,
   "metadata": {},
   "outputs": [
    {
     "name": "stdout",
     "output_type": "stream",
     "text": [
      "[]\n"
     ]
    }
   ],
   "source": [
    "ps = ps_xml.xpath('//a//img[@data-imgurl]')\n",
    "print(ps)"
   ]
  },
  {
   "cell_type": "markdown",
   "metadata": {},
   "source": [
    "# 百度图片爬取，下载到本地"
   ]
  },
  {
   "cell_type": "code",
   "execution_count": 88,
   "metadata": {
    "scrolled": true
   },
   "outputs": [
    {
     "name": "stdout",
     "output_type": "stream",
     "text": [
      "<Response [200]>\n"
     ]
    }
   ],
   "source": [
    "import requests \n",
    "url='https://img0.baidu.com/it/u=221234240,2283738635&fm=253&fmt=auto&app=138&f=JPEG?w=889&h=500'\n",
    "headers={'user-agent':'Mozilla/5.0 (Windows NT 10.0; Win64; x64) AppleWebKit/537.36 (KHTML, like Gecko) Chrome/100.0.4896.127 Safari/537.36'}\n",
    "#发送get请求\n",
    "res=requests.get(url=url,headers=headers)\n",
    "code=res.status_code \n",
    "if code ==200:\n",
    "    print(res)\n",
    "    #获取内容\n",
    "    pic=res.content\n",
    "    #按二进制写入本地文件\n",
    "    with open('测试1.jpg','wb') as f:\n",
    "        f.write(pic)"
   ]
  },
  {
   "cell_type": "code",
   "execution_count": 3,
   "metadata": {},
   "outputs": [
    {
     "name": "stdout",
     "output_type": "stream",
     "text": [
      "<Response [200]>\n"
     ]
    }
   ],
   "source": [
    "import requests \n",
    "url='https://www.bilibili.com/video/av22953416/?redirectFrom=h5'\n",
    "headers={'user-agent':'Mozilla/5.0 (Windows NT 10.0; Win64; x64) AppleWebKit/537.36 (KHTML, like Gecko) Chrome/100.0.4896.127 Safari/537.36'}\n",
    "#发送get请求\n",
    "res=requests.get(url=url,headers=headers)\n",
    "code=res.status_code \n",
    "if code ==200:\n",
    "    print(res)\n",
    "    #获取内容\n",
    "    pic=res.content\n",
    "    #按二进制写入本地文件\n",
    "    with open('测试.mp4','wb') as f:\n",
    "        f.write(pic)"
   ]
  },
  {
   "cell_type": "markdown",
   "metadata": {},
   "source": [
    "# 下载PDF"
   ]
  },
  {
   "cell_type": "code",
   "execution_count": 6,
   "metadata": {},
   "outputs": [],
   "source": [
    "import time\n",
    "import requests\n",
    "url = \"http://static.cninfo.com.cn/finalpage/2021-04-17/1209711009.PDF\"\n",
    "responsepdf = requests.get(url)\n",
    "if responsepdf.status_code == 200:\n",
    "  with open(r\"E:pdf文档.pdf\", \"wb\") as code:\n",
    "    code.write(responsepdf.content)\n",
    "    time.sleep(5) "
   ]
  },
  {
   "cell_type": "markdown",
   "metadata": {},
   "source": [
    "# COOKIE 或SESSION 登录"
   ]
  },
  {
   "cell_type": "markdown",
   "metadata": {},
   "source": [
    "# cookie 登录\n",
    "import requests \n",
    "url='https://www.bilibili.com/video/av22953416/?redirectFrom=h5'\n",
    "headers={'user-agent':'Mozilla/5.0 (Windows NT 10.0; Win64; x64) AppleWebKit/537.36 (KHTML, like Gecko) Chrome/100.0.4896.127 Safari/537.36'\n",
    "         'cookie':'复制粘贴登录后的cookie—具体是检查-Network-查看请求头（requests headers）信息下的cookie'}\n",
    "#发送get请求\n",
    "res=requests.get(url=url,headers=headers)\n",
    "code=res.status_code \n",
    "if code ==200:\n",
    "    print(res)\n",
    "    #获取内容\n",
    "    pic=res.content\n",
    "    #按二进制写入本地文件\n",
    "    with open('测试.mp4','wb') as f:\n",
    "        f.write(pic)"
   ]
  },
  {
   "cell_type": "markdown",
   "metadata": {},
   "source": [
    "# session（）登录\n",
    "import requests \n",
    "\n",
    "# 目标链接\n",
    "url='https://www.bilibili.com/video/av22953416/?redirectFrom=h5'\n",
    "\n",
    "# 登录链接\n",
    "\n",
    "logurl='url'\n",
    "# 账户数据 （登录页面-检查-network-勾选preservelog-登录-form data）\n",
    "data=['account':'',\n",
    "    'password':''\n",
    "    '其它':''\n",
    "]\n",
    "headers={'user-agent':'Mozilla/5.0 (Windows NT 10.0; Win64; x64) AppleWebKit/537.36 (KHTML, like Gecko) Chrome/100.0.4896.127 Safari/537.36'}\n",
    "# 发送get 或POST请求,根据请求头的方式\n",
    "req=requests.session()\n",
    "\n",
    "res=req.get(url=logurl,headers=headers，data)\n",
    "code=req.status_code \n",
    "if code ==200:\n",
    "    print(res)\n",
    "# 发起新的请求，并获取目标链接下内容(相当于是登录下发起的请求，即req)\n",
    "    res=req.get(url=url,headers = headers)\n",
    "    \n",
    "    #按二进制写入本地文件\n",
    "    with open('测试.mp4','wb') as f:\n",
    "        f.write(pic)"
   ]
  },
  {
   "cell_type": "code",
   "execution_count": null,
   "metadata": {},
   "outputs": [],
   "source": []
  },
  {
   "cell_type": "code",
   "execution_count": null,
   "metadata": {},
   "outputs": [],
   "source": []
  },
  {
   "cell_type": "code",
   "execution_count": null,
   "metadata": {},
   "outputs": [],
   "source": []
  },
  {
   "cell_type": "code",
   "execution_count": null,
   "metadata": {},
   "outputs": [],
   "source": []
  },
  {
   "cell_type": "code",
   "execution_count": null,
   "metadata": {},
   "outputs": [],
   "source": []
  }
 ],
 "metadata": {
  "kernelspec": {
   "display_name": "Python 3",
   "language": "python",
   "name": "python3"
  },
  "language_info": {
   "codemirror_mode": {
    "name": "ipython",
    "version": 3
   },
   "file_extension": ".py",
   "mimetype": "text/x-python",
   "name": "python",
   "nbconvert_exporter": "python",
   "pygments_lexer": "ipython3",
   "version": "3.7.3"
  }
 },
 "nbformat": 4,
 "nbformat_minor": 2
}
